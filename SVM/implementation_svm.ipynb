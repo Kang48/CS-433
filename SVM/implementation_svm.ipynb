{
 "cells": [
  {
   "cell_type": "code",
   "execution_count": null,
   "metadata": {},
   "outputs": [],
   "source": [
    "import numpy as np\n",
    "from SVM import *\n",
    "\n",
    "\n",
    "# Load data\n",
    "x_train_pre = np.loadtxt(\"x_train_encoded.csv\", delimiter=\",\", skiprows=1)\n",
    "y_train = np.loadtxt(\"y_train.csv\", delimiter=\",\", skiprows=1)\n",
    "\n",
    "# Extract labels\n",
    "y_train_pre = y_train[:, 1]\n",
    "\n",
    "x_test_pre = np.loadtxt(\"x_test_encoded.csv\", delimiter=\",\", skiprows=1)\n",
    "\n",
    "\n",
    "\n",
    "\n",
    "# Assuming x_train_pre, y_train_pre, and x_test_pre are already defined\n",
    "# Create an instance of the SVM class with batch processing\n",
    "svm = SVM(learning_rate=0.001, lambda_param=0.01, n_iterations=1000)  \n",
    "\n",
    "# Fit the model on the training data\n",
    "svm.fit(x_train_pre, y_train_pre)\n",
    "\n",
    "# Make predictions on the test data\n",
    "y_pred = svm.predict(x_test_pre)\n",
    "\n",
    "# Load sample submission\n",
    "sample_submission = np.loadtxt('sample-submission.csv', delimiter=',', skiprows=1, usecols=0, dtype=int)\n",
    "\n",
    "# Save as .csv\n",
    "header = \"Id,Prediction\"\n",
    "results = np.hstack((sample_submission.reshape(-1, 1), y_pred.reshape(-1, 1)))\n",
    "\n",
    "np.savetxt('C:/Users/y/Documents/ml_exercise/ML_project_1/svm.csv', \n",
    "           results, delimiter=',', header=header, comments='', fmt='%d')\n",
    "\n"
   ]
  },
  {
   "cell_type": "code",
   "execution_count": 3,
   "metadata": {},
   "outputs": [
    {
     "name": "stdout",
     "output_type": "stream",
     "text": [
      "[-1. nan -1. -1. -1. nan nan -1. -1. -1.]\n",
      "y_pred_test 中有 46116 个 NaN\n"
     ]
    }
   ],
   "source": [
    "# 查找 y_pred_test 中 NaN 的个数\n",
    "num_nans = np.sum(np.isnan(y_pred))\n",
    "print(y_pred[:10])\n",
    "print(f\"y_pred_test 中有 {num_nans} 个 NaN\")\n",
    "\n",
    "# 将 y_pred_test 中的 NaN 替换为 -1\n",
    "y_pred_test = np.nan_to_num(y_pred, nan=1)\n",
    "\n",
    "# save as .csv\n",
    "header = \"Id,Prediction\"\n",
    "results = np.hstack((sample_submission.reshape(-1, 1), y_pred_test.reshape(-1, 1)))\n",
    "\n",
    "np.savetxt('C:/Users/y/Documents/ml_exercise/ML_project_1/svm.csv', \n",
    "           results, delimiter=',', header=header, comments='', fmt='%d')\n",
    "\n"
   ]
  },
  {
   "cell_type": "code",
   "execution_count": 4,
   "metadata": {},
   "outputs": [
    {
     "name": "stdout",
     "output_type": "stream",
     "text": [
      "(328135, 424)\n",
      "(32813, 424)\n",
      "(32813,)\n",
      "[-1. -1.  1. -1. -1. -1. -1. -1. -1. -1.]\n"
     ]
    }
   ],
   "source": [
    "# Randomly select 10% of the data\n",
    "np.random.seed(42)  # For reproducibility\n",
    "num_samples = x_train_pre.shape[0]\n",
    "sample_size = int(num_samples * 0.1)\n",
    "indices = np.random.choice(num_samples, sample_size, replace=False)\n",
    "\n",
    "# Extract the sampled training data and labels\n",
    "x_train_sample = x_train_pre[indices]\n",
    "y_train_sample = y_train_pre[indices]\n",
    "\n",
    "print(x_train_pre.shape)\n",
    "print(x_train_sample.shape)\n",
    "print(y_train_sample.shape)\n",
    "print(y_train_sample[:10])"
   ]
  },
  {
   "cell_type": "code",
   "execution_count": 6,
   "metadata": {},
   "outputs": [
    {
     "name": "stdout",
     "output_type": "stream",
     "text": [
      "0 0.9117118215341481\n"
     ]
    }
   ],
   "source": [
    "from basic_functions import *\n",
    "# The prediction results of logistic regression\n",
    "y_pred_sample=svm.predict(x_train_sample)\n",
    "f1_score_logiregression=calculate_f1_score(y_pred_sample,y_train_sample)\n",
    "accuracy_logiregression=calculate_accuracy(y_pred_sample,y_train_sample)\n",
    "print(f1_score_logiregression,accuracy_logiregression)\n"
   ]
  }
 ],
 "metadata": {
  "kernelspec": {
   "display_name": "Python 3",
   "language": "python",
   "name": "python3"
  },
  "language_info": {
   "codemirror_mode": {
    "name": "ipython",
    "version": 3
   },
   "file_extension": ".py",
   "mimetype": "text/x-python",
   "name": "python",
   "nbconvert_exporter": "python",
   "pygments_lexer": "ipython3",
   "version": "3.11.2"
  }
 },
 "nbformat": 4,
 "nbformat_minor": 2
}

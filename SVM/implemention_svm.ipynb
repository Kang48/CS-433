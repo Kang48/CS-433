{
 "cells": [
  {
   "cell_type": "code",
   "execution_count": null,
   "metadata": {},
   "outputs": [],
   "source": [
    "import numpy as np\n",
    "from SVM import *\n",
    "\n",
    "\n",
    "# Load data\n",
    "x_train_pre = np.loadtxt(\"x_train_pre.csv\", delimiter=\",\", skiprows=1)\n",
    "y_train = np.loadtxt(\"y_train.csv\", delimiter=\",\", skiprows=1)\n",
    "\n",
    "# Extract labels\n",
    "y_train_pre = y_train[:, 1]\n",
    "\n",
    "x_test_pre = np.loadtxt(\"x_test_pre.csv\", delimiter=\",\", skiprows=1)\n",
    "\n",
    "\n",
    "\n",
    "\n",
    "# Assuming x_train_pre, y_train_pre, and x_test_pre are already defined\n",
    "# Create an instance of the SVM class with batch processing\n",
    "svm = SVM(learning_rate=0.001, lambda_param=0.01, n_iterations=1000)  \n",
    "\n",
    "# Fit the model on the training data\n",
    "svm.fit(x_train_pre, y_train_pre)\n",
    "\n",
    "# Make predictions on the test data\n",
    "y_pred = svm.predict(x_test_pre)\n",
    "\n",
    "# Load sample submission\n",
    "sample_submission = np.loadtxt('sample-submission.csv', delimiter=',', skiprows=1, usecols=0, dtype=int)\n",
    "\n",
    "# Save as .csv\n",
    "header = \"Id,Prediction\"\n",
    "results = np.hstack((sample_submission.reshape(-1, 1), y_pred.reshape(-1, 1)))\n",
    "\n",
    "np.savetxt('C:/Users/y/Documents/ml_exercise/ML_project_1/svm.csv', \n",
    "           results, delimiter=',', header=header, comments='', fmt='%d')\n"
   ]
  }
 ],
 "metadata": {
  "language_info": {
   "name": "python"
  }
 },
 "nbformat": 4,
 "nbformat_minor": 2
}

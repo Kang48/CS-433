{
 "cells": [
  {
   "cell_type": "code",
   "execution_count": null,
   "metadata": {},
   "outputs": [],
   "source": [
    "import numpy as np\n",
    "\n",
    "# 定义 Ridge Regression 训练函数\n",
    "def ridge_regression(y, tx, lambda_):\n",
    "    \"\"\"Ridge regression using normal equations.\n",
    "\n",
    "    Args:\n",
    "        y: shape=(N, )\n",
    "        tx: shape=(N, D)\n",
    "        lambda_: regularization parameter (scalar)\n",
    "\n",
    "    Returns:\n",
    "        w: shape=(D,). The optimal weights vector.\n",
    "    \"\"\"\n",
    "    N, D = tx.shape\n",
    "    lambda_prime = 2 * N * lambda_\n",
    "    # 计算 Ridge 回归的闭式解\n",
    "    w = np.linalg.solve(tx.T @ tx + lambda_prime * np.eye(D), tx.T @ y)\n",
    "    return w\n",
    "\n",
    "# 加载数据\n",
    "x_train_pre = np.loadtxt(\"x_train_encoded.csv\", delimiter=\",\", skiprows=1)\n",
    "y_train = np.loadtxt(\"y_train.csv\", delimiter=\",\", skiprows=1)\n",
    "\n",
    "# 提取标签\n",
    "y_train_pre = y_train[:, 1]\n",
    "\n",
    "x_test_pre = np.loadtxt(\"x_test_encoded.csv\", delimiter=\",\", skiprows=1)\n",
    "\n",
    "# 修改标签，将 -1 改为 0\n",
    "y_train_pre[y_train_pre == -1] = 0\n",
    "y_train_pre = y_train_pre.astype(int)\n",
    "\n",
    "# 设置正则化参数\n",
    "lambda_ = 0.1\n",
    "\n",
    "# 训练 Ridge 回归模型\n",
    "w_ridge = ridge_regression(y_train_pre, x_train_pre, lambda_)\n",
    "\n",
    "# 在测试集上进行预测\n",
    "y_pred_continuous = x_test_pre @ w_ridge\n",
    "\n",
    "# 将回归预测转换为分类 (0 或 1)\n",
    "y_pred = (y_pred_continuous >= 0.0000000001).astype(int)\n",
    "\n",
    "# 假设有真实标签 y_test 可供验证\n",
    "# accuracy = calculate_accuracy(y_test, y_pred)\n",
    "# f1_score = calculate_f1_score(y_test, y_pred)\n",
    "# print(f\"Accuracy: {accuracy}, F1 Score: {f1_score}\")\n",
    "\n",
    "\n",
    "y_pred=np.where(y_pred == 0, -1, y_pred)\n",
    "# 保存结果\n",
    "sample_submission = np.loadtxt('sample-submission.csv', delimiter=',', skiprows=1, usecols=0, dtype=int)\n",
    "\n",
    "header = \"Id,Prediction\"\n",
    "results = np.hstack((sample_submission.reshape(-1, 1), y_pred.reshape(-1, 1)))\n",
    "\n",
    "np.savetxt('C:/Users/y/Documents/ml_exercise/ML_project_1/ridge_classification.csv', \n",
    "           results, delimiter=',', header=header, comments='', fmt='%d')\n"
   ]
  },
  {
   "cell_type": "code",
   "execution_count": null,
   "metadata": {},
   "outputs": [],
   "source": [
    "# F1 score:       Accuracy:    "
   ]
  }
 ],
 "metadata": {
  "kernelspec": {
   "display_name": "Python 3",
   "language": "python",
   "name": "python3"
  },
  "language_info": {
   "codemirror_mode": {
    "name": "ipython",
    "version": 3
   },
   "file_extension": ".py",
   "mimetype": "text/x-python",
   "name": "python",
   "nbconvert_exporter": "python",
   "pygments_lexer": "ipython3",
   "version": "3.11.2"
  }
 },
 "nbformat": 4,
 "nbformat_minor": 2
}

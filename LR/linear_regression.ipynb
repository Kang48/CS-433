{
 "cells": [
  {
   "cell_type": "code",
   "execution_count": 10,
   "metadata": {},
   "outputs": [
    {
     "name": "stderr",
     "output_type": "stream",
     "text": [
      "C:\\Users\\y\\AppData\\Local\\Temp\\ipykernel_13508\\1968454023.py:40: RuntimeWarning: invalid value encountered in subtract\n",
      "  w -= learning_rate * gradient\n"
     ]
    }
   ],
   "source": [
    "import numpy as np\n",
    "\n",
    "# Load data\n",
    "x_train_pre = np.loadtxt(\"x_train_pre.csv\", delimiter=\",\", skiprows=1)\n",
    "y_train = np.loadtxt(\"y_train.csv\", delimiter=\",\", skiprows=1)\n",
    "\n",
    "# Extract labels\n",
    "y_train_pre = y_train[:, 1]\n",
    "\n",
    "x_test_pre = np.loadtxt(\"x_test_pre.csv\", delimiter=\",\", skiprows=1)\n",
    "\n",
    "# Add bias term\n",
    "X_train_b = np.c_[np.ones((x_train_pre.shape[0], 1)), x_train_pre]  # Add x0 = 1 (bias term)\n",
    "\n",
    "# Define batch size\n",
    "batch_size = 32  # You can adjust the batch size as needed\n",
    "n_samples, n_features = X_train_b.shape\n",
    "n_batches = n_samples // batch_size + (n_samples % batch_size != 0)  # Calculate number of batches\n",
    "\n",
    "# Initialize weights\n",
    "w = np.zeros(n_features)\n",
    "\n",
    "# Linear Regression training using mini-batches\n",
    "learning_rate = 0.01  # Learning rate for gradient descent\n",
    "\n",
    "for epoch in range(100):  # Number of epochs\n",
    "    for i in range(n_batches):\n",
    "        start_index = i * batch_size\n",
    "        end_index = min((i + 1) * batch_size, n_samples)\n",
    "        X_batch = X_train_b[start_index:end_index]  # Get the current batch\n",
    "        y_batch = y_train_pre[start_index:end_index]  # Corresponding labels\n",
    "\n",
    "        # Calculate predictions\n",
    "        y_pred = X_batch.dot(w)\n",
    "\n",
    "        # Calculate gradient\n",
    "        gradient = -X_batch.T.dot(y_batch - y_pred) / len(y_batch)  # Mean gradient\n",
    "\n",
    "        # Update weights\n",
    "        w -= learning_rate * gradient\n",
    "\n",
    "# 3. Prediction function\n",
    "def predict(X, w, threshold):\n",
    "    X_b = np.c_[np.ones((X.shape[0], 1)), X]  # Add bias term\n",
    "    y_pred_continuous = X_b.dot(w)  # Calculate predictions\n",
    "    return (y_pred_continuous >= threshold).astype(int)  # Apply threshold\n",
    "\n",
    "# Use the trained model to predict on test data\n",
    "y_test_pred = predict(x_test_pre, w,threshold=0.5)\n",
    "\n",
    "# Load sample submission\n",
    "sample_submission = np.loadtxt('sample-submission.csv', delimiter=',', skiprows=1, usecols=0, dtype=int)\n",
    "\n",
    "# Save results as .csv\n",
    "header = \"Id,Prediction\"\n",
    "results = np.hstack((sample_submission.reshape(-1, 1), y_test_pred.reshape(-1, 1)))\n",
    "\n",
    "np.savetxt('C:/Users/y/Documents/ml_exercise/ML_project_1/linear_regression.csv', \n",
    "           results, delimiter=',', header=header, comments='', fmt='%d')\n",
    "\n",
    "\n"
   ]
  },
  {
   "cell_type": "code",
   "execution_count": null,
   "metadata": {},
   "outputs": [],
   "source": [
    "## threshold: 0.5   F1_score: 0.000    Accuracy: 0.912"
   ]
  },
  {
   "cell_type": "code",
   "execution_count": 12,
   "metadata": {},
   "outputs": [],
   "source": [
    "# Use the trained model to predict on test data\n",
    "y_test_pred = predict(x_test_pre, w,threshold=0.00000001)\n",
    "\n",
    "# Load sample submission\n",
    "sample_submission = np.loadtxt('sample-submission.csv', delimiter=',', skiprows=1, usecols=0, dtype=int)\n",
    "\n",
    "# Save results as .csv\n",
    "header = \"Id,Prediction\"\n",
    "results = np.hstack((sample_submission.reshape(-1, 1), y_test_pred.reshape(-1, 1)))\n",
    "\n",
    "np.savetxt('C:/Users/y/Documents/ml_exercise/ML_project_1/linear_regression_1.csv', \n",
    "           results, delimiter=',', header=header, comments='', fmt='%d')\n"
   ]
  }
 ],
 "metadata": {
  "kernelspec": {
   "display_name": "Python 3",
   "language": "python",
   "name": "python3"
  },
  "language_info": {
   "codemirror_mode": {
    "name": "ipython",
    "version": 3
   },
   "file_extension": ".py",
   "mimetype": "text/x-python",
   "name": "python",
   "nbconvert_exporter": "python",
   "pygments_lexer": "ipython3",
   "version": "3.11.2"
  }
 },
 "nbformat": 4,
 "nbformat_minor": 2
}
